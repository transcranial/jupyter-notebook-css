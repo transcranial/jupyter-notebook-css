{
 "cells": [
  {
   "cell_type": "markdown",
   "metadata": {},
   "source": [
    "### Iterate over themes"
   ]
  },
  {
   "cell_type": "code",
   "execution_count": 1,
   "metadata": {},
   "outputs": [],
   "source": [
    "import time\n",
    "import subprocess\n",
    "from tqdm import tqdm_notebook\n",
    "from mss import mss"
   ]
  },
  {
   "cell_type": "code",
   "execution_count": 2,
   "metadata": {},
   "outputs": [],
   "source": [
    "themes =  subprocess.run(\"jupyter-themer --show color\", stdout=subprocess.PIPE).stdout.decode('utf-8').split()"
   ]
  },
  {
   "cell_type": "code",
   "execution_count": 3,
   "metadata": {},
   "outputs": [
    {
     "data": {
      "text/plain": [
       "['3024-day',\n",
       " '3024-night',\n",
       " 'abcdef',\n",
       " 'ambiance',\n",
       " 'base16-dark',\n",
       " 'base16-light',\n",
       " 'blackboard',\n",
       " 'cobalt',\n",
       " 'colorforth',\n",
       " 'dracula',\n",
       " 'eclipse',\n",
       " 'elegant',\n",
       " 'erlang-dark',\n",
       " 'icecoder',\n",
       " 'lesser-dark',\n",
       " 'liquibyte',\n",
       " 'material',\n",
       " 'mbo',\n",
       " 'mdn-like',\n",
       " 'midnight',\n",
       " 'monokai',\n",
       " 'neat',\n",
       " 'neo',\n",
       " 'night',\n",
       " 'paraiso-dark',\n",
       " 'paraiso-light',\n",
       " 'pastel-on-dark',\n",
       " 'rubyblue',\n",
       " 'seti',\n",
       " 'solarized-dark',\n",
       " 'solarized-light',\n",
       " 'the-matrix',\n",
       " 'tomorrow-night-bright',\n",
       " 'tomorrow-night-eighties',\n",
       " 'ttcn',\n",
       " 'twilight',\n",
       " 'vibrant-ink',\n",
       " 'xq-dark',\n",
       " 'xq-light',\n",
       " 'yeti',\n",
       " 'zenburn']"
      ]
     },
     "execution_count": 3,
     "metadata": {},
     "output_type": "execute_result"
    }
   ],
   "source": [
    "themes"
   ]
  },
  {
   "cell_type": "code",
   "execution_count": 6,
   "metadata": {},
   "outputs": [
    {
     "data": {
      "application/vnd.jupyter.widget-view+json": {
       "model_id": "6e57b309dfef4e869c88d432205292c6",
       "version_major": 2,
       "version_minor": 0
      },
      "text/plain": [
       "HBox(children=(IntProgress(value=0, max=41), HTML(value='')))"
      ]
     },
     "metadata": {},
     "output_type": "display_data"
    },
    {
     "name": "stdout",
     "output_type": "stream",
     "text": [
      "\n"
     ]
    }
   ],
   "source": [
    "for theme in tqdm_notebook(themes):\n",
    "    ### change theme\n",
    "    subprocess.run(\"jupyter-themer -c {}\".format(theme));\n",
    "    time.sleep(5)\n",
    "    \n",
    "    ### refresh http://localhost:8890/notebooks/sample_code.ipynb somehow\n",
    "    ### done automatically with chrome extension\n",
    "    \n",
    "    ### screenshot \n",
    "    with mss() as sct:\n",
    "        sct.compression_level = 0\n",
    "        sct.shot(output = '{}.png'.format(theme))\n",
    "    "
   ]
  },
  {
   "cell_type": "code",
   "execution_count": 9,
   "metadata": {},
   "outputs": [],
   "source": [
    "theme = themes[14]\n",
    "subprocess.run(\"jupyter-themer -c {}\".format(theme));"
   ]
  },
  {
   "cell_type": "code",
   "execution_count": 10,
   "metadata": {},
   "outputs": [],
   "source": [
    "with mss() as sct:\n",
    "    sct.compression_level = 0\n",
    "    sct.shot(output = '{}.png'.format(theme))"
   ]
  },
  {
   "cell_type": "code",
   "execution_count": null,
   "metadata": {},
   "outputs": [],
   "source": []
  }
 ],
 "metadata": {
  "kernelspec": {
   "display_name": "Python 3",
   "language": "python",
   "name": "python3"
  },
  "language_info": {
   "codemirror_mode": {
    "name": "ipython",
    "version": 3
   },
   "file_extension": ".py",
   "mimetype": "text/x-python",
   "name": "python",
   "nbconvert_exporter": "python",
   "pygments_lexer": "ipython3",
   "version": "3.6.6"
  }
 },
 "nbformat": 4,
 "nbformat_minor": 2
}
